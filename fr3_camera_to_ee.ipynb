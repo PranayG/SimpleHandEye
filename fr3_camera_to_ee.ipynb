{
 "cells": [
  {
   "cell_type": "code",
   "execution_count": 1,
   "metadata": {},
   "outputs": [],
   "source": [
    "from SimpleHandEye.interfaces.cameras import RealSenseCamera\n",
    "import cv2"
   ]
  },
  {
   "cell_type": "code",
   "execution_count": 2,
   "metadata": {},
   "outputs": [
    {
     "name": "stdout",
     "output_type": "stream",
     "text": [
      "Enabling streams for camera:  141322250720\n",
      "Warning: HD color fps cannot be higher than 30\n",
      "Warning: HD depth/infrared fps cannot be higher than 30\n"
     ]
    },
    {
     "ename": "RuntimeError",
     "evalue": "start() cannot be called before stop()",
     "output_type": "error",
     "traceback": [
      "\u001b[0;31m---------------------------------------------------------------------------\u001b[0m",
      "\u001b[0;31mRuntimeError\u001b[0m                              Traceback (most recent call last)",
      "Cell \u001b[0;32mIn[2], line 5\u001b[0m\n\u001b[1;32m      2\u001b[0m     cv2\u001b[38;5;241m.\u001b[39mimshow(\u001b[38;5;124m'\u001b[39m\u001b[38;5;124mimage\u001b[39m\u001b[38;5;124m'\u001b[39m, color_frame)\n\u001b[1;32m      3\u001b[0m     cv2\u001b[38;5;241m.\u001b[39mwaitKey(\u001b[38;5;241m33\u001b[39m)\n\u001b[0;32m----> 5\u001b[0m camera \u001b[38;5;241m=\u001b[39m \u001b[43mRealSenseCamera\u001b[49m\u001b[43m(\u001b[49m\u001b[43mcallback_fn\u001b[49m\u001b[38;5;241;43m=\u001b[39;49m\u001b[43mshowImage\u001b[49m\u001b[43m)\u001b[49m\n\u001b[1;32m      7\u001b[0m intrinsics_params \u001b[38;5;241m=\u001b[39m camera\u001b[38;5;241m.\u001b[39mgetIntrinsics()\n\u001b[1;32m      8\u001b[0m K \u001b[38;5;241m=\u001b[39m intrinsics_params[\u001b[38;5;124m'\u001b[39m\u001b[38;5;124mRGB\u001b[39m\u001b[38;5;124m'\u001b[39m][\u001b[38;5;124m'\u001b[39m\u001b[38;5;124mK\u001b[39m\u001b[38;5;124m'\u001b[39m]\n",
      "File \u001b[0;32m~/SimpleHandEye/SimpleHandEye/interfaces/cameras.py:111\u001b[0m, in \u001b[0;36mRealSenseCamera.__init__\u001b[0;34m(self, callback_fn, camera_serial_no, VGA, color_fps, depth_fps, enable_imu, enable_depth, enable_color, enable_ir, emitter_enabled, align_to_color)\u001b[0m\n\u001b[1;32m    102\u001b[0m \u001b[38;5;66;03m# for i in range(5):\u001b[39;00m\n\u001b[1;32m    103\u001b[0m \u001b[38;5;66;03m#     print(\"Try: \"+str(i))\u001b[39;00m\n\u001b[1;32m    104\u001b[0m \u001b[38;5;66;03m#     try:\u001b[39;00m\n\u001b[0;32m   (...)\u001b[0m\n\u001b[1;32m    108\u001b[0m \u001b[38;5;66;03m#     except:\u001b[39;00m\n\u001b[1;32m    109\u001b[0m \u001b[38;5;66;03m#         continue\u001b[39;00m\n\u001b[1;32m    110\u001b[0m \u001b[38;5;28mself\u001b[39m\u001b[38;5;241m.\u001b[39mprofile \u001b[38;5;241m=\u001b[39m \u001b[38;5;28mself\u001b[39m\u001b[38;5;241m.\u001b[39mpipeline\u001b[38;5;241m.\u001b[39mstart(\u001b[38;5;28mself\u001b[39m\u001b[38;5;241m.\u001b[39mconfig)\n\u001b[0;32m--> 111\u001b[0m \u001b[38;5;28mself\u001b[39m\u001b[38;5;241m.\u001b[39mprofile \u001b[38;5;241m=\u001b[39m \u001b[38;5;28;43mself\u001b[39;49m\u001b[38;5;241;43m.\u001b[39;49m\u001b[43mpipeline\u001b[49m\u001b[38;5;241;43m.\u001b[39;49m\u001b[43mstart\u001b[49m\u001b[43m(\u001b[49m\u001b[38;5;28;43mself\u001b[39;49m\u001b[38;5;241;43m.\u001b[39;49m\u001b[43mconfig\u001b[49m\u001b[43m)\u001b[49m\n\u001b[1;32m    112\u001b[0m \u001b[38;5;28mself\u001b[39m\u001b[38;5;241m.\u001b[39mdepth_sensor \u001b[38;5;241m=\u001b[39m \u001b[38;5;28mself\u001b[39m\u001b[38;5;241m.\u001b[39mprofile\u001b[38;5;241m.\u001b[39mget_device()\u001b[38;5;241m.\u001b[39mfirst_depth_sensor()\n\u001b[1;32m    113\u001b[0m \u001b[38;5;28;01mif\u001b[39;00m emitter_enabled:\n",
      "\u001b[0;31mRuntimeError\u001b[0m: start() cannot be called before stop()"
     ]
    }
   ],
   "source": [
    "def showImage(color_frame, depth_frame, ir1_frame, ir2_frame):\n",
    "    cv2.imshow('image', color_frame)\n",
    "    cv2.waitKey(33)\n",
    "\n",
    "camera = RealSenseCamera(callback_fn=showImage)\n",
    "\n",
    "intrinsics_params = camera.getIntrinsics()\n",
    "K = intrinsics_params['RGB']['K']\n",
    "D = intrinsics_params['RGB']['D']\n",
    "\n",
    "# K,D"
   ]
  },
  {
   "cell_type": "code",
   "execution_count": null,
   "metadata": {},
   "outputs": [],
   "source": [
    "from SimpleHandEye.interfaces.apriltag import ApriltagTracker\n",
    "\n",
    "\n",
    "tag_pose_tracker = ApriltagTracker(tag_size=0.172, # put your tag size here\n",
    "                          intrinsic_matrix=K,\n",
    "                          distortion_coeffs=D)\n",
    "\n",
    "cam_T_tag = tag_pose_tracker.getPose(camera.color_frame, tag_id=0)\n",
    "\n",
    "print(cam_T_tag)"
   ]
  },
  {
   "cell_type": "code",
   "execution_count": null,
   "metadata": {},
   "outputs": [],
   "source": [
    "from SimpleHandEye.solvers import OpenCVSolver\n",
    "import numpy as np\n",
    "solver = OpenCVSolver()\n"
   ]
  },
  {
   "cell_type": "code",
   "execution_count": null,
   "metadata": {},
   "outputs": [],
   "source": [
    "R = np.array([[ 1.00000000e+00 ,4.48086013e-13, -2.09999912e-10],\n",
    " [ 4.48086013e-13, -1.00000000e+00, -3.14018492e-16],\n",
    " [-2.09999912e-10, 3.14018398e-16, -1.00000000e+00]]) \n",
    "\n",
    "t = np.array([ 3.06890567e-01 ,-2.36797045e-16 , 5.90282052e-01])\n",
    "\n",
    "base_T_hand = np.vstack([np.hstack([R, t.reshape(3,1)]),\n",
    "                          np.array([0,0,0,1])])\n",
    "\n",
    "print(base_T_hand)"
   ]
  },
  {
   "cell_type": "code",
   "execution_count": null,
   "metadata": {},
   "outputs": [],
   "source": [
    "import sys\n",
    "sys.path.append('/usr/local/lib/python3.8/site-packages')\n",
    "\n",
    "import FR3Py\n",
    "FR3Py.__path__\n",
    "\n",
    "import sys \n",
    "from FR3Py.robot.interface import FR3Real\n",
    "robot = FR3Real()\n",
    "\n"
   ]
  },
  {
   "cell_type": "code",
   "execution_count": null,
   "metadata": {},
   "outputs": [],
   "source": [
    "# import numpy as np\n",
    "# import time\n",
    "# from FR3Py.robot.model import PinocchioModel\n",
    "# model = PinocchioModel()\n",
    "# time.sleep(1)\n",
    "# state = robot.getStates()\n",
    "# q, dq = state['q'], state['dq']\n",
    "# info = model.getInfo(q, dq)\n",
    "# R, t = info['R_EE'], info['P_EE']\n",
    "\n",
    "# base_T_hand = np.vstack([np.hstack([R, t.reshape(3,1)]),\n",
    "#                         np.array([0,0,0,1])])\n",
    "# base_T_hand"
   ]
  },
  {
   "cell_type": "code",
   "execution_count": null,
   "metadata": {},
   "outputs": [],
   "source": [
    "import numpy as np\n",
    "import time\n",
    "from FR3Py.robot.model import PinocchioModel\n",
    "\n",
    "model = PinocchioModel()\n",
    "time.sleep(1)\n",
    "\n",
    "def getHandPose(robot):\n",
    "  state = robot.getStates()\n",
    "\n",
    "  if state is not None:\n",
    "    q, dq = state['q'], state['dq']\n",
    "    info = model.getInfo(q, dq)\n",
    "    R, t = info['R_HAND'], info['P_HAND']\n",
    "\n",
    "    base_T_hand = np.vstack([np.hstack([R, t.reshape(3,1)]),\n",
    "                            np.array([0,0,0,1])])\n",
    "    return base_T_hand\n",
    "  else:\n",
    "    return None\n",
    "\n",
    "base_T_hand = getHandPose(robot)\n",
    "\n",
    "print(base_T_hand)"
   ]
  },
  {
   "cell_type": "code",
   "execution_count": null,
   "metadata": {},
   "outputs": [],
   "source": [
    "import ipywidgets as widgets\n",
    "import numpy as np\n",
    "from IPython.display import display\n",
    "from pprint import pprint\n",
    "from IPython.display import clear_output\n",
    "np.set_printoptions(suppress=True, precision=3)\n",
    "\n",
    "# The dataset\n",
    "A_list = []\n",
    "B_list = []\n",
    "apriltag_info = []  \n",
    "apriltag_imgs_raw = []\n",
    "apriltag_imgs_udist = []\n",
    "\n",
    "def on_sample_clicked(b):\n",
    "    A  = getHandPose(robot)\n",
    "    img = camera.color_frame\n",
    "    info = tag_pose_tracker.getPoseAndCorners(img, tag_id=0)\n",
    "    B = np.linalg.inv(info['pose']) # Note that B is tag_T_cam\n",
    "    apriltag_info.append(info)\n",
    "    apriltag_imgs_raw.append(img)\n",
    "    apriltag_imgs_udist.append(tag_pose_tracker.undistortImage(img))\n",
    "    print(\"A=\")\n",
    "    pprint(A)\n",
    "    print(\"B=\")\n",
    "    pprint(B)\n",
    "    # if A is not None and B is not None:\n",
    "    A_list.append(A)\n",
    "    B_list.append(B)\n",
    "    print(\"*************\")\n",
    "\n",
    "def on_compute_clicked(b):\n",
    "    try:\n",
    "        X,Y = solver.solve(A_list, B_list)\n",
    "        clear_output(wait=True)\n",
    "        print(\"X=\")\n",
    "        pprint(X)\n",
    "        print(\"Y=\")\n",
    "        pprint(Y)\n",
    "    except:\n",
    "        print(\"Bad dataset, please record again\")\n",
    "        A_list.clear()\n",
    "        B_list.clear()\n",
    "        \n",
    "\n",
    "sample_button = widgets.Button(description=\"Sample\")\n",
    "compute_button = widgets.Button(description=\"Compute\")\n",
    "\n",
    "sample_button.on_click(on_sample_clicked)\n",
    "compute_button.on_click(on_compute_clicked)\n",
    "display(sample_button)\n",
    "display(compute_button)"
   ]
  },
  {
   "cell_type": "code",
   "execution_count": null,
   "metadata": {},
   "outputs": [],
   "source": []
  },
  {
   "cell_type": "code",
   "execution_count": null,
   "metadata": {},
   "outputs": [],
   "source": []
  }
 ],
 "metadata": {
  "kernelspec": {
   "display_name": "Python 3",
   "language": "python",
   "name": "python3"
  },
  "language_info": {
   "codemirror_mode": {
    "name": "ipython",
    "version": 3
   },
   "file_extension": ".py",
   "mimetype": "text/x-python",
   "name": "python",
   "nbconvert_exporter": "python",
   "pygments_lexer": "ipython3",
   "version": "3.8.18"
  }
 },
 "nbformat": 4,
 "nbformat_minor": 2
}
